{
 "cells": [
  {
   "cell_type": "markdown",
   "metadata": {},
   "source": [
    "## Algorithm\n",
    "1) Consider the first element to be sorted and the rest to be unsorted\n",
    "\n",
    "2) Assume the first element to be the smallest element.\n",
    "\n",
    "3) Check if the first element is smaller than each of the other elements:\n",
    "\n",
    "         3a) If yes, do nothing\n",
    "\n",
    "         3b) If no, choose the other smaller element as minimum and repeat step 3\n",
    "\n",
    "6) After completion of one iteration through the list, swap the smallest element with the first element of the list.\n",
    "\n",
    "7) Now consider the second element in the list to be the smallest and so on till all the elements in the list are covered."
   ]
  },
  {
   "cell_type": "code",
   "execution_count": 87,
   "metadata": {
    "collapsed": true
   },
   "outputs": [],
   "source": [
    "def selection_sort(lst):\n",
    "    for i in range(len(lst)):\n",
    "      # Find the minimum element in remaining\n",
    "        minPosition = i\n",
    "        for j in range(i+1, len(lst)):\n",
    "            if lst[minPosition] > lst[j]:\n",
    "                minPosition = j\n",
    "\n",
    "       # Swap the found minimum element with minPosition       \n",
    "        temp = lst[i]\n",
    "        lst[i], lst[minPosition] = lst[minPosition], lst[i]\n",
    "\n",
    "    return lst"
   ]
  },
  {
   "cell_type": "code",
   "execution_count": 88,
   "metadata": {},
   "outputs": [
    {
     "name": "stdout",
     "output_type": "stream",
     "text": [
      "[0, 1, 2, 2, 3, 3]\n"
     ]
    },
    {
     "data": {
      "text/plain": [
       "[1, 2, 4, 5, 6, 9, 9, 10]"
      ]
     },
     "execution_count": 88,
     "metadata": {},
     "output_type": "execute_result"
    }
   ],
   "source": [
    "ex = [3,2,1,0,3,2]\n",
    "ex2 = [2,4,5,6,9,1,9,10]\n",
    "print(selection_sort(ex))\n",
    "selection_sort(ex2)"
   ]
  },
  {
   "cell_type": "code",
   "execution_count": null,
   "metadata": {
    "collapsed": true
   },
   "outputs": [],
   "source": []
  }
 ],
 "metadata": {
  "kernelspec": {
   "display_name": "Python 3",
   "language": "python",
   "name": "python3"
  },
  "language_info": {
   "codemirror_mode": {
    "name": "ipython",
    "version": 3
   },
   "file_extension": ".py",
   "mimetype": "text/x-python",
   "name": "python",
   "nbconvert_exporter": "python",
   "pygments_lexer": "ipython3",
   "version": "3.6.3"
  }
 },
 "nbformat": 4,
 "nbformat_minor": 2
}
