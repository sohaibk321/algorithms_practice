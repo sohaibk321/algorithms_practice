{
 "cells": [
  {
   "cell_type": "code",
   "execution_count": 4,
   "metadata": {},
   "outputs": [
    {
     "data": {
      "text/plain": [
       "233168"
      ]
     },
     "execution_count": 4,
     "metadata": {},
     "output_type": "execute_result"
    }
   ],
   "source": [
    "# Multiples of 3 and 5 sum\n",
    "\n",
    "def multiple_3_5(limit):\n",
    "    result = 0\n",
    "    for i in range(limit):\n",
    "        if i % 3 == 0 or i % 5 == 0:\n",
    "            result+=i\n",
    "    return result\n",
    "\n",
    "multiple_3_5(1000)"
   ]
  },
  {
   "cell_type": "code",
   "execution_count": 14,
   "metadata": {},
   "outputs": [
    {
     "data": {
      "text/plain": [
       "4613732"
      ]
     },
     "execution_count": 14,
     "metadata": {},
     "output_type": "execute_result"
    }
   ],
   "source": [
    "# sum of even fibonacci nums with fibonacci sum limit of 4 million \n",
    "def fib_even_sum():\n",
    "    lst = [1,2]\n",
    "    while lst[-1]<4e6:\n",
    "        lst.append((lst[-2]+lst[-1]))\n",
    "    result = 0\n",
    "    for i in lst:\n",
    "        if i%2==0:\n",
    "            result+=i\n",
    "    return result\n",
    "\n",
    "fib_even_sum()"
   ]
  },
  {
   "cell_type": "code",
   "execution_count": 16,
   "metadata": {},
   "outputs": [
    {
     "name": "stdout",
     "output_type": "stream",
     "text": [
      "6857.0\n"
     ]
    }
   ],
   "source": [
    "# largets prime factor for n\n",
    "n = 600851475143\n",
    "i = 2\n",
    "while i * i < n:\n",
    "    while n%i == 0:\n",
    "        n = n / i\n",
    "    i = i + 1\n",
    "    \n",
    "print(n)"
   ]
  },
  {
   "cell_type": "code",
   "execution_count": 35,
   "metadata": {},
   "outputs": [
    {
     "data": {
      "text/plain": [
       "906609"
      ]
     },
     "execution_count": 35,
     "metadata": {},
     "output_type": "execute_result"
    }
   ],
   "source": [
    "# largest palindrome from 3 digit numbers\n",
    "lst = list(range(100,1000))\n",
    "possible = []\n",
    "for i in lst:\n",
    "    for k in lst:\n",
    "        ans = str(i * k)\n",
    "        if ans == ans[::-1]:\n",
    "            possible.append(int(ans))\n",
    "max(possible)"
   ]
  },
  {
   "cell_type": "code",
   "execution_count": 20,
   "metadata": {},
   "outputs": [
    {
     "name": "stdout",
     "output_type": "stream",
     "text": [
      "232792560\n"
     ]
    }
   ],
   "source": [
    "# smallest positive number that is evenly divisible by all of the numbers from 1 to 20?\n",
    "# LCM of 1 to 20 is any prime factorial that shows up the most between that range\n",
    "ans = 2*2*2*2*3*3*5*7*11*13*17*19\n",
    "print(ans)"
   ]
  },
  {
   "cell_type": "code",
   "execution_count": 32,
   "metadata": {},
   "outputs": [
    {
     "name": "stdout",
     "output_type": "stream",
     "text": [
      "What is the range: 100\n",
      "25502500\n",
      "338350\n",
      "the difference between the sum of the squares and the square of the sum is 25164150\n"
     ]
    }
   ],
   "source": [
    "# Sum square difference\n",
    "sum_of_squares = 0\n",
    "square_of_sum = 0\n",
    "n = int(input(\"What is the range: \"))\n",
    "for i in range(1, n+1):\n",
    "    sum_of_squares+=i**2\n",
    "    square_of_sum+=i\n",
    "square_of_sum**=2\n",
    "print(square_of_sum)\n",
    "print(sum_of_squares)\n",
    "print(\"the difference between the sum of the squares and the square of the sum is {}\".format(square_of_sum-sum_of_squares))"
   ]
  },
  {
   "cell_type": "code",
   "execution_count": 58,
   "metadata": {},
   "outputs": [
    {
     "data": {
      "text/plain": [
       "104743"
      ]
     },
     "execution_count": 58,
     "metadata": {},
     "output_type": "execute_result"
    }
   ],
   "source": [
    "def primes(n):\n",
    "    primes = [2]\n",
    "    attempt = 3\n",
    "    while len(primes) < n:\n",
    "        if all(attempt % prime != 0 for prime in primes):\n",
    "            primes.append(attempt)\n",
    "        attempt += 2\n",
    "    return primes[-1]\n",
    "primes(10001)"
   ]
  },
  {
   "cell_type": "code",
   "execution_count": null,
   "metadata": {
    "collapsed": true
   },
   "outputs": [],
   "source": []
  }
 ],
 "metadata": {
  "kernelspec": {
   "display_name": "Python 3",
   "language": "python",
   "name": "python3"
  },
  "language_info": {
   "codemirror_mode": {
    "name": "ipython",
    "version": 3
   },
   "file_extension": ".py",
   "mimetype": "text/x-python",
   "name": "python",
   "nbconvert_exporter": "python",
   "pygments_lexer": "ipython3",
   "version": "3.6.3"
  }
 },
 "nbformat": 4,
 "nbformat_minor": 2
}
