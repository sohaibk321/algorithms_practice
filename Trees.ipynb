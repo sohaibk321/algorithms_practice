{
 "cells": [
  {
   "cell_type": "code",
   "execution_count": 18,
   "metadata": {},
   "outputs": [],
   "source": [
    "import numpy as np\n",
    "\n",
    "lst = np.random.randint(0, 100, size=15)"
   ]
  },
  {
   "cell_type": "code",
   "execution_count": 68,
   "metadata": {},
   "outputs": [],
   "source": [
    "class Node:\n",
    "    def __init__(self, val):\n",
    "        self.left = None\n",
    "        self.right = None\n",
    "        self.val = val\n",
    "        \n",
    "    def __repr__(self):\n",
    "        return str(self.val)\n",
    "    \n",
    "def level_order(queue):\n",
    "    if len(queue) == 0:\n",
    "        return \n",
    "    node = queue[0]\n",
    "    queue.pop(0)\n",
    "    \n",
    "    if node.left:\n",
    "        queue.append(node.left)\n",
    "\n",
    "    if node.right:\n",
    "        queue.append(node.right)\n",
    "\n",
    "    print(node.val)\n",
    "    level_order(queue)"
   ]
  },
  {
   "cell_type": "code",
   "execution_count": 69,
   "metadata": {},
   "outputs": [
    {
     "data": {
      "text/plain": [
       "array([99, 62, 19,  9, 77, 30, 88, 94, 23,  0, 99, 15, 62, 91, 86])"
      ]
     },
     "execution_count": 69,
     "metadata": {},
     "output_type": "execute_result"
    }
   ],
   "source": [
    "lst"
   ]
  },
  {
   "cell_type": "code",
   "execution_count": 70,
   "metadata": {},
   "outputs": [
    {
     "name": "stdout",
     "output_type": "stream",
     "text": [
      "99\n",
      "62\n",
      "19\n",
      "9\n",
      "77\n",
      "30\n",
      "88\n",
      "94\n",
      "23\n",
      "0\n",
      "99\n",
      "15\n",
      "62\n",
      "91\n",
      "86\n"
     ]
    }
   ],
   "source": [
    "#Parent node\n",
    "tree = Node(lst[0])\n",
    "\n",
    "# Layer 1\n",
    "tree.left = Node(lst[1])\n",
    "tree.right = Node(lst[2])\n",
    "\n",
    "# Layer 2 \n",
    "tree.left.left = Node(lst[3])\n",
    "tree.left.right = Node(lst[4])\n",
    "\n",
    "# Layer 2 \n",
    "tree.right.left = Node(lst[5])\n",
    "tree.right.right = Node(lst[6])\n",
    "\n",
    "# Children\n",
    "tree.left.left.left = Node(lst[7])\n",
    "tree.left.left.right = Node(lst[8])\n",
    "\n",
    "# Children\n",
    "tree.left.right.left = Node(lst[9])\n",
    "tree.left.right.right = Node(lst[10])\n",
    "\n",
    "# Children\n",
    "tree.right.left.left = Node(lst[11])\n",
    "tree.right.left.right = Node(lst[12])\n",
    "\n",
    "# Children\n",
    "tree.right.right.left = Node(lst[13])\n",
    "tree.right.right.right = Node(lst[14])\n",
    "\n",
    "queue = list()\n",
    "\n",
    "queue.append(tree)\n",
    "level_order(queue)"
   ]
  },
  {
   "cell_type": "code",
   "execution_count": null,
   "metadata": {
    "collapsed": true
   },
   "outputs": [],
   "source": []
  }
 ],
 "metadata": {
  "kernelspec": {
   "display_name": "Python 3",
   "language": "python",
   "name": "python3"
  },
  "language_info": {
   "codemirror_mode": {
    "name": "ipython",
    "version": 3
   },
   "file_extension": ".py",
   "mimetype": "text/x-python",
   "name": "python",
   "nbconvert_exporter": "python",
   "pygments_lexer": "ipython3",
   "version": "3.6.3"
  }
 },
 "nbformat": 4,
 "nbformat_minor": 2
}
